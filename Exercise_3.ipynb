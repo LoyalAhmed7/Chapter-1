{
  "nbformat": 4,
  "nbformat_minor": 0,
  "metadata": {
    "colab": {
      "provenance": [],
      "collapsed_sections": []
    },
    "kernelspec": {
      "name": "python3",
      "display_name": "Python 3"
    },
    "language_info": {
      "name": "python"
    }
  },
  "cells": [
    {
      "cell_type": "code",
      "execution_count": 1,
      "metadata": {
        "colab": {
          "base_uri": "https://localhost:8080/"
        },
        "id": "Ow4BgXsqRICP",
        "outputId": "15fd7652-f3ff-455a-a011-d4cc3bc29e81"
      },
      "outputs": [
        {
          "output_type": "stream",
          "name": "stdout",
          "text": [
            "Exercise 3\n",
            "\n",
            "Current date and time : \n",
            "2022-09-25 06:35:22\n"
          ]
        }
      ],
      "source": [
        "print(\"Exercise 3\\n\")\n",
        "import datetime\n",
        "now = datetime.datetime.now()\n",
        "print (\"Current date and time : \")\n",
        "print (now.strftime(\"%Y-%m-%d %H:%M:%S\"))"
      ]
    }
  ]
}