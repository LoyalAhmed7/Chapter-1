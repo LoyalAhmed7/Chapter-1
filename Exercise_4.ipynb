{
  "nbformat": 4,
  "nbformat_minor": 0,
  "metadata": {
    "colab": {
      "provenance": [],
      "collapsed_sections": []
    },
    "kernelspec": {
      "name": "python3",
      "display_name": "Python 3"
    },
    "language_info": {
      "name": "python"
    }
  },
  "cells": [
    {
      "cell_type": "code",
      "execution_count": 1,
      "metadata": {
        "colab": {
          "base_uri": "https://localhost:8080/"
        },
        "id": "2DE3ZfrnijHn",
        "outputId": "85b58278-631f-47f2-b4fa-f120f7a3d6fe"
      },
      "outputs": [
        {
          "output_type": "stream",
          "name": "stdout",
          "text": [
            "Exercise 4\n",
            "\n",
            "I am Raheem :)\n"
          ]
        }
      ],
      "source": [
        "print(\"Exercise 4\\n\")\n",
        "a=\"I \"\n",
        "b=\"am \"\n",
        "c=\"Raheem :)\"\n",
        "total= a+b+c\n",
        "print(total)"
      ]
    }
  ]
}