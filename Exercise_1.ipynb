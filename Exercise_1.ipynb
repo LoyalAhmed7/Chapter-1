{
  "cells": [
    {
      "cell_type": "code",
      "execution_count": 5,
      "metadata": {
        "colab": {
          "base_uri": "https://localhost:8080/"
        },
        "id": "3gqZEhdjEFOP",
        "outputId": "938039aa-e932-4f90-8c3b-b851b87f866d"
      },
      "outputs": [
        {
          "output_type": "stream",
          "name": "stdout",
          "text": [
            "Exercise 1\n",
            "\n",
            "Twinkle, twinkle, little star,\n",
            "How I wonder what you are! \n",
            "Up above the world so high, \n",
            "Like a diamond in the sky. \n",
            "Twinkle, twinkle, little star, \n",
            "How I wonder what you are \n"
          ]
        }
      ],
      "source": [
        "print(\"Exercise 1\\n\")\n",
        "print(\"Twinkle, twinkle, little star,\\nHow I wonder what you are! \\nUp above the world so high, \\nLike a diamond in the sky. \\nTwinkle, twinkle, little star, \\nHow I wonder what you are \")"
      ]
    }
  ],
  "metadata": {
    "colab": {
      "collapsed_sections": [],
      "provenance": []
    },
    "kernelspec": {
      "display_name": "Python 3",
      "name": "python3"
    },
    "language_info": {
      "name": "python"
    }
  },
  "nbformat": 4,
  "nbformat_minor": 0
}