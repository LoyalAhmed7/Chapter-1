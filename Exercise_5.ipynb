{
  "nbformat": 4,
  "nbformat_minor": 0,
  "metadata": {
    "colab": {
      "provenance": [],
      "collapsed_sections": []
    },
    "kernelspec": {
      "name": "python3",
      "display_name": "Python 3"
    },
    "language_info": {
      "name": "python"
    }
  },
  "cells": [
    {
      "cell_type": "code",
      "execution_count": 1,
      "metadata": {
        "colab": {
          "base_uri": "https://localhost:8080/"
        },
        "id": "-fJpfSUEltPA",
        "outputId": "7af00e90-5d1d-48e5-ace3-b60ce470f39a"
      },
      "outputs": [
        {
          "output_type": "stream",
          "name": "stdout",
          "text": [
            "Exercise 5\n",
            "\n",
            "Enter radius: 2\n",
            "12.56\n"
          ]
        }
      ],
      "source": [
        "print(\"Exercise 5\\n\")\n",
        "radius=int(input(\"Enter radius: \"))\n",
        "total= 3.14*radius**2\n",
        "print(total)"
      ]
    }
  ]
}