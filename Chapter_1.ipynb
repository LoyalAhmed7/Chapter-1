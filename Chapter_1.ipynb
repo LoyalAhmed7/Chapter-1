{
  "nbformat": 4,
  "nbformat_minor": 0,
  "metadata": {
    "colab": {
      "provenance": [],
      "collapsed_sections": []
    },
    "kernelspec": {
      "name": "python3",
      "display_name": "Python 3"
    },
    "language_info": {
      "name": "python"
    }
  },
  "cells": [
    {
      "cell_type": "code",
      "execution_count": null,
      "metadata": {
        "colab": {
          "base_uri": "https://localhost:8080/"
        },
        "id": "3gqZEhdjEFOP",
        "outputId": "9f856fcd-cd85-47ff-b6c1-adc314e65c9b"
      },
      "outputs": [
        {
          "output_type": "stream",
          "name": "stdout",
          "text": [
            "Exercise 1\n",
            "\n",
            "Twinkle, twinkle, little star, How I wonder what you are! Up above the world so high, Like a diamond in the sky. Twinkle, twinkle, little star, \n",
            "How I wonder what you are\n"
          ]
        }
      ],
      "source": [
        "print(\"Exercise 1\\n\")\n",
        "print(\"Twinkle, twinkle, little star, How I wonder what you are! Up above the world so high, Like a diamond in the sky. Twinkle, twinkle, little star, \")\n",
        "print(\"How I wonder what you are\")"
      ]
    },
    {
      "cell_type": "code",
      "source": [
        "print(\"Exercise 2\\n\")\n",
        "! python\n"
      ],
      "metadata": {
        "colab": {
          "base_uri": "https://localhost:8080/"
        },
        "id": "BTztByY_QoTL",
        "outputId": "f7327119-05e4-4a6e-8367-825313b9c6a5"
      },
      "execution_count": null,
      "outputs": [
        {
          "output_type": "stream",
          "name": "stdout",
          "text": [
            "Exercise 2\n",
            "\n",
            "Python 3.7.14 (default, Sep  8 2022, 00:06:44) \n",
            "[GCC 7.5.0] on linux\n",
            "Type \"help\", \"copyright\", \"credits\" or \"license\" for more information.\n",
            ">>> "
          ]
        }
      ]
    },
    {
      "cell_type": "code",
      "source": [
        "print(\"Exercise 3\\n\")\n",
        "import datetime\n",
        "now = datetime.datetime.now()\n",
        "print (\"Current date and time : \")\n",
        "print (now.strftime(\"%Y-%m-%d %H:%M:%S\"))"
      ],
      "metadata": {
        "colab": {
          "base_uri": "https://localhost:8080/"
        },
        "id": "Ow4BgXsqRICP",
        "outputId": "1a610060-820b-41c1-8bb6-ad58aea8fc26"
      },
      "execution_count": 2,
      "outputs": [
        {
          "output_type": "stream",
          "name": "stdout",
          "text": [
            "Exercise 3\n",
            "\n",
            "Current date and time : \n",
            "2022-09-24 17:30:18\n"
          ]
        }
      ]
    },
    {
      "cell_type": "code",
      "source": [
        "print(\"Exercise 4\\n\")\n",
        "a=\"I \"\n",
        "b=\"am \"\n",
        "c=\"Raheem\"\n",
        "total= a+b+c\n",
        "print(total)"
      ],
      "metadata": {
        "id": "2DE3ZfrnijHn",
        "colab": {
          "base_uri": "https://localhost:8080/"
        },
        "outputId": "5e8f96cd-9d1d-4d33-9fd1-fcd51622e4fa"
      },
      "execution_count": 8,
      "outputs": [
        {
          "output_type": "stream",
          "name": "stdout",
          "text": [
            "Exercise 4\n",
            "\n",
            "I am Raheem\n"
          ]
        }
      ]
    },
    {
      "cell_type": "code",
      "source": [
        "print(\"Exercise 5\\n\")\n",
        "radius=int(input(\"Enter radius: \"))\n",
        "total= 3.14*radius**2\n",
        "print(total)"
      ],
      "metadata": {
        "colab": {
          "base_uri": "https://localhost:8080/"
        },
        "id": "-fJpfSUEltPA",
        "outputId": "f53156f2-ac4f-4b8d-ba08-704283980a7d"
      },
      "execution_count": 15,
      "outputs": [
        {
          "output_type": "stream",
          "name": "stdout",
          "text": [
            "Exercise 5\n",
            "\n",
            "Enter radius: 5\n",
            "78.5\n"
          ]
        }
      ]
    }
  ]
}